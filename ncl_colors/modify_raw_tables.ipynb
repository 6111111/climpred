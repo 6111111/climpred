{
 "cells": [
  {
   "cell_type": "markdown",
   "metadata": {},
   "source": [
    "# Modify Raw NCL Tables\n",
    "First open the .rgb output in a txt file and delete the first row with \"N = ...\" and the # sign that appears in the rgb header row."
   ]
  },
  {
   "cell_type": "code",
   "execution_count": 2,
   "metadata": {
    "collapsed": true
   },
   "outputs": [],
   "source": [
    "import pandas as pd\n",
    "import matplotlib.pyplot as plt\n",
    "import matplotlib.colors as color\n",
    "import os"
   ]
  },
  {
   "cell_type": "code",
   "execution_count": 9,
   "metadata": {
    "collapsed": true
   },
   "outputs": [],
   "source": [
    "# Load in original raw table\n",
    "fileDir = \"/Users/bradyrx/Google Drive/Packages/esmtools/ncl_colors/\"\n",
    "rawFile = \"amwg.rgb\"\n",
    "raw_table = pd.read_table(fileDir + rawFile, delim_whitespace=True, header=0)"
   ]
  },
  {
   "cell_type": "code",
   "execution_count": 16,
   "metadata": {},
   "outputs": [],
   "source": [
    "# Convert to 0 to 1 range.\n",
    "if raw_table.max().max() > 1:\n",
    "    raw_table = raw_table / 255"
   ]
  },
  {
   "cell_type": "code",
   "execution_count": 18,
   "metadata": {},
   "outputs": [],
   "source": [
    "# Find some way to properly save this out with .to_csv() so it can be loaded right."
   ]
  },
  {
   "cell_type": "markdown",
   "metadata": {},
   "source": [
    "# THIS WILL BE YOUR SCRIPT IN THE PACKAGE\n",
    "Make sure to provide in description a list of color tables. Then load those files from this dir"
   ]
  },
  {
   "cell_type": "code",
   "execution_count": null,
   "metadata": {
    "collapsed": true
   },
   "outputs": [],
   "source": [
    "rgb_table = pd.read_table(fileName, delim_whitespace=True)\n",
    "my_cmap = color.ListedColormap(rgb_table.values)\n",
    "x = np.random.randn(50,50)\n",
    "plt.pcolor(x, cmap=my_cmap, vmin=-3, vmax=3)\n",
    "plt.colorbar()"
   ]
  }
 ],
 "metadata": {
  "kernelspec": {
   "display_name": "Python 3",
   "language": "python",
   "name": "python3"
  },
  "language_info": {
   "codemirror_mode": {
    "name": "ipython",
    "version": 3
   },
   "file_extension": ".py",
   "mimetype": "text/x-python",
   "name": "python",
   "nbconvert_exporter": "python",
   "pygments_lexer": "ipython3",
   "version": "3.6.1"
  }
 },
 "nbformat": 4,
 "nbformat_minor": 2
}
