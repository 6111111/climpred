{
 "cells": [
  {
   "cell_type": "markdown",
   "metadata": {},
   "source": [
    "# Annual Hindcast Predictions\n",
    "\n",
    "In this example, we evaluate hindcasts (retrospective forecasts) of sea surface temperatures in the eastern equatorial Pacific from CESM-DPLE. These hindcasts are evaluated against a forced ocean--sea ice simulation that initializes the model.\n",
    "\n",
    "See the [quick start](https://climpred.readthedocs.io/en/latest/quick-start.html) for an analysis of time series (rather than maps) from a hindcast prediction ensemble."
   ]
  },
  {
   "cell_type": "code",
   "execution_count": null,
   "metadata": {
    "ExecuteTime": {
     "end_time": "2019-07-08T22:03:59.784474Z",
     "start_time": "2019-07-08T22:03:58.298540Z"
    }
   },
   "outputs": [],
   "source": [
    "%matplotlib inline\n",
    "import matplotlib.pyplot as plt\n",
    "import numpy as np\n",
    "import climpred\n",
    "from climpred.tutorial import load_dataset\n",
    "from climpred import HindcastEnsemble\n",
    "import cartopy.crs as ccrs\n",
    "import cartopy.feature as cfeature"
   ]
  },
  {
   "cell_type": "markdown",
   "metadata": {},
   "source": [
    "We'll load in a small region of the eastern equatorial Pacific for this analysis example."
   ]
  },
  {
   "cell_type": "code",
   "execution_count": null,
   "metadata": {
    "ExecuteTime": {
     "end_time": "2019-07-08T22:03:59.789410Z",
     "start_time": "2019-07-08T22:03:59.786354Z"
    }
   },
   "outputs": [],
   "source": [
    "load_dataset()"
   ]
  },
  {
   "cell_type": "code",
   "execution_count": null,
   "metadata": {
    "ExecuteTime": {
     "end_time": "2019-07-08T22:03:59.823485Z",
     "start_time": "2019-07-08T22:03:59.791135Z"
    }
   },
   "outputs": [],
   "source": [
    "hind = load_dataset('CESM-DP-SST-3D')['SST']\n",
    "recon = load_dataset('FOSI-SST-3D')['SST']\n",
    "print(hind)"
   ]
  },
  {
   "cell_type": "markdown",
   "metadata": {},
   "source": [
    "These two example products cover a small portion of the eastern equatorial Pacific."
   ]
  },
  {
   "cell_type": "code",
   "execution_count": null,
   "metadata": {
    "ExecuteTime": {
     "end_time": "2019-07-08T22:04:00.091763Z",
     "start_time": "2019-07-08T22:03:59.826092Z"
    }
   },
   "outputs": [],
   "source": [
    "ax = plt.axes(projection=ccrs.Orthographic(-80, 0))\n",
    "p = ax.pcolormesh(recon.TLONG, recon.TLAT, recon.mean('time'), \n",
    "              transform=ccrs.PlateCarree(), cmap='twilight')\n",
    "ax.add_feature(cfeature.LAND, color='#d3d3d3')\n",
    "ax.set_global()\n",
    "plt.colorbar(p, label='Sea Surface Temperature [degC]')\n",
    "ax.set(title='Example Data Coverage')"
   ]
  },
  {
   "cell_type": "markdown",
   "metadata": {},
   "source": [
    "We first need to remove the same climatology that was used to drift-correct the CESM-DPLE. Then we'll create a detrended version of our two products to assess detrended predictability."
   ]
  },
  {
   "cell_type": "code",
   "execution_count": null,
   "metadata": {
    "ExecuteTime": {
     "end_time": "2019-07-08T22:04:00.363465Z",
     "start_time": "2019-07-08T22:04:00.093289Z"
    }
   },
   "outputs": [],
   "source": [
    "# Remove 1964-2014 climatology.\n",
    "recon = recon - recon.sel(time=slice(1964, 2014)).mean('time')\n",
    "\n",
    "# Remove trend to look at anomalies.\n",
    "recon = climpred.stats.rm_trend(recon, dim='time')\n",
    "hind = climpred.stats.rm_trend(hind, dim='init')"
   ]
  },
  {
   "cell_type": "markdown",
   "metadata": {},
   "source": [
    "Although functions can be called directly in `climpred`, we suggest that you use our classes (`HindcastEnsemble` and `PerfectModelEnsemble`) to make analysis code cleaner."
   ]
  },
  {
   "cell_type": "code",
   "execution_count": null,
   "metadata": {
    "ExecuteTime": {
     "end_time": "2019-07-08T22:04:00.370944Z",
     "start_time": "2019-07-08T22:04:00.364608Z"
    }
   },
   "outputs": [],
   "source": [
    "hindcast = HindcastEnsemble(hind)\n",
    "hindcast.add_reference(recon, 'reconstruction')\n",
    "print(hindcast)"
   ]
  },
  {
   "cell_type": "markdown",
   "metadata": {},
   "source": [
    "We can now compute the ACC over all leads and all grid cells."
   ]
  },
  {
   "cell_type": "code",
   "execution_count": null,
   "metadata": {
    "ExecuteTime": {
     "end_time": "2019-07-08T22:04:00.444068Z",
     "start_time": "2019-07-08T22:04:00.372673Z"
    }
   },
   "outputs": [],
   "source": [
    "predictability = hindcast.compute_metric(metric='acc')\n",
    "# `compute_metric` dropped the TLAT coordinate for some reason. This will\n",
    "# be fixed in a later version of `climpred`.\n",
    "predictability['TLAT'] = recon['TLAT']\n",
    "predictability = predictability.set_coords('TLAT')"
   ]
  },
  {
   "cell_type": "code",
   "execution_count": null,
   "metadata": {
    "ExecuteTime": {
     "end_time": "2019-07-08T22:04:01.006709Z",
     "start_time": "2019-07-08T22:04:00.445194Z"
    }
   },
   "outputs": [],
   "source": [
    "p = predictability.SST.plot.pcolormesh(x='TLONG', y='TLAT', \n",
    "                                       transform=ccrs.PlateCarree(), col='lead',\n",
    "                                       col_wrap=5,\n",
    "                                       subplot_kws={'projection': ccrs.Orthographic(-80, 0),},\n",
    "                                       vmin=-0.7, vmax=0.7, cmap='RdYlBu_r',\n",
    "                                       cbar_kwargs={'label': 'Anomaly Correlation Coefficient'}\n",
    "                                       )\n",
    "for ax in p.axes.flat:\n",
    "    ax.add_feature(cfeature.LAND, color='#d3d3d3', )\n",
    "    ax.set_global()\n",
    "    \n",
    "plt.draw()"
   ]
  },
  {
   "cell_type": "markdown",
   "metadata": {},
   "source": [
    "We can also check error in our forecasts, just by changing the metric keyword."
   ]
  },
  {
   "cell_type": "code",
   "execution_count": null,
   "metadata": {
    "ExecuteTime": {
     "end_time": "2019-07-08T22:04:01.079849Z",
     "start_time": "2019-07-08T22:04:01.008542Z"
    }
   },
   "outputs": [],
   "source": [
    "rmse = hindcast.compute_metric(metric='rmse')\n",
    "rmse['TLAT'] = recon['TLAT']\n",
    "rmse = rmse.set_coords('TLAT')"
   ]
  },
  {
   "cell_type": "code",
   "execution_count": null,
   "metadata": {
    "ExecuteTime": {
     "end_time": "2019-07-08T22:04:01.614979Z",
     "start_time": "2019-07-08T22:04:01.081277Z"
    }
   },
   "outputs": [],
   "source": [
    "p = rmse.SST.plot.pcolormesh(x='TLONG', y='TLAT', \n",
    "                                       transform=ccrs.PlateCarree(), col='lead',\n",
    "                                       col_wrap=5, vmin=0, vmax=1,\n",
    "                                       subplot_kws={'projection': ccrs.Orthographic(-80, 0),},\n",
    "                                       cmap='Purples', cbar_kwargs={'label': 'Root Mean Square Error (degC)'}\n",
    "                                       )\n",
    "for ax in p.axes.flat:\n",
    "    ax.add_feature(cfeature.LAND, color='#d3d3d3', )\n",
    "    ax.set_global()\n",
    "    \n",
    "plt.draw()"
   ]
  }
 ],
 "metadata": {
  "kernelspec": {
   "display_name": "Python 3",
   "language": "python",
   "name": "python3"
  },
  "language_info": {
   "codemirror_mode": {
    "name": "ipython",
    "version": 3
   },
   "file_extension": ".py",
   "mimetype": "text/x-python",
   "name": "python",
   "nbconvert_exporter": "python",
   "pygments_lexer": "ipython3",
   "version": "3.7.2"
  },
  "toc": {
   "base_numbering": 1,
   "nav_menu": {},
   "number_sections": true,
   "sideBar": true,
   "skip_h1_title": false,
   "title_cell": "Table of Contents",
   "title_sidebar": "Contents",
   "toc_cell": false,
   "toc_position": {},
   "toc_section_display": true,
   "toc_window_display": false
  }
 },
 "nbformat": 4,
 "nbformat_minor": 2
}
