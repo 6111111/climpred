{
 "cells": [
  {
   "cell_type": "markdown",
   "metadata": {},
   "source": [
    "**DISCUSSION**:\n",
    "* Do we just use CFTime everywhere?\n",
    "* Do we try to infer calendars, or have them appended to the object or something?\n",
    "* Should we switch to only importing the main objects for v2 so we can facilitate the object attribute?\n",
    "\n",
    "**OTHER**:\n",
    "* Exempt the S2S stuff from the nbstripout since the data takes so long to load.\n",
    "* Couldn't test daily- or weekly-subx-example trying to pull data down. \n",
    "\n",
    "**TESTS**:\n",
    "* Test that irregular initializations work (like MPI control with jumps in them).\n",
    "* Test that normal series of dates work.\n",
    "* Does the seasonal implementation work by just adding months?\n",
    "\n",
    "**ISSUES**:\n",
    "* Watch out that you're overwriting the `hind` object init for instance. Figure out how to not overwrite the object.\n",
    "* Should transition to system where lead units is an attribute of the class. Need to think about how that would change based on coarsening, etc.\n",
    "* Bootstrap perfect model also drops attrs."
   ]
  },
  {
   "cell_type": "code",
   "execution_count": 1,
   "metadata": {},
   "outputs": [],
   "source": [
    "%matplotlib inline\n",
    "import matplotlib.pyplot as plt\n",
    "import xarray as xr\n",
    "\n",
    "from climpred import HindcastEnsemble, PerfectModelEnsemble\n",
    "import climpred\n",
    "from climpred.utils import *\n",
    "from climpred.constants import *\n",
    "\n",
    "import cftime\n",
    "from climpred.tutorial import load_dataset"
   ]
  },
  {
   "cell_type": "code",
   "execution_count": 2,
   "metadata": {},
   "outputs": [],
   "source": [
    "import xarray as xr\n",
    "import numpy as np"
   ]
  },
  {
   "cell_type": "code",
   "execution_count": null,
   "metadata": {},
   "outputs": [],
   "source": [
    "time1 = np.arange('1990', '2000', dtype='datetime64[Y]')\n",
    "time2 = np.arange(len(time1))\n",
    "ds1 = xr.DataArray(np.random.rand(len(time1)), dims=[\"time\"], coords=[time1])\n",
    "ds2 = xr.DataArray(np.random.rand(len(time2)), dims=[\"time\"], coords=[time2])"
   ]
  },
  {
   "cell_type": "code",
   "execution_count": 3,
   "metadata": {},
   "outputs": [],
   "source": [
    "def initialized_ds_lead0():\n",
    "    da = load_dataset('CESM-DP-SST')\n",
    "    da = da - da.mean('init')\n",
    "    # Change to a lead-0 framework\n",
    "    da['init'] += 1\n",
    "    da['lead'] -= 1\n",
    "    da['lead'].attrs['units'] = 'years'\n",
    "    return da\n",
    "\n",
    "def initialized_ds():\n",
    "    da = load_dataset('CESM-DP-SST')\n",
    "    da = da - da.mean('init')\n",
    "    da['lead'].attrs['units'] = 'years'\n",
    "    return da\n",
    "\n",
    "def reconstruction_ds():\n",
    "    da = load_dataset('FOSI-SST')\n",
    "    da = da - da.mean('time')\n",
    "    return da"
   ]
  },
  {
   "cell_type": "code",
   "execution_count": 7,
   "metadata": {},
   "outputs": [],
   "source": [
    "ds1 = initialized_ds()\n",
    "hind = initialized_ds_lead0()\n",
    "reference = reconstruction_ds()"
   ]
  },
  {
   "cell_type": "code",
   "execution_count": 10,
   "metadata": {},
   "outputs": [],
   "source": [
    "ds1[\"init\"] = np.arange('1954', '2018', dtype='datetime64[Y]')"
   ]
  },
  {
   "cell_type": "code",
   "execution_count": 11,
   "metadata": {},
   "outputs": [
    {
     "data": {
      "text/html": [
       "<pre>&lt;xarray.Dataset&gt;\n",
       "Dimensions:  (init: 64, lead: 10, member: 10)\n",
       "Coordinates:\n",
       "  * lead     (lead) int32 1 2 3 4 5 6 7 8 9 10\n",
       "  * member   (member) int32 1 2 3 4 5 6 7 8 9 10\n",
       "  * init     (init) object 1954-01-01 00:00:00 ... 2017-01-01 00:00:00\n",
       "Data variables:\n",
       "    SST      (init, lead, member) float64 -0.2354 -0.2171 ... 0.648 0.6407</pre>"
      ],
      "text/plain": [
       "<xarray.Dataset>\n",
       "Dimensions:  (init: 64, lead: 10, member: 10)\n",
       "Coordinates:\n",
       "  * lead     (lead) int32 1 2 3 4 5 6 7 8 9 10\n",
       "  * member   (member) int32 1 2 3 4 5 6 7 8 9 10\n",
       "  * init     (init) object 1954-01-01 00:00:00 ... 2017-01-01 00:00:00\n",
       "Data variables:\n",
       "    SST      (init, lead, member) float64 -0.2354 -0.2171 ... 0.648 0.6407"
      ]
     },
     "execution_count": 11,
     "metadata": {},
     "output_type": "execute_result"
    }
   ],
   "source": [
    "HindcastEnsemble(ds1).get_initialized()"
   ]
  },
  {
   "cell_type": "code",
   "execution_count": 16,
   "metadata": {},
   "outputs": [
    {
     "data": {
      "text/plain": [
       "CFTimeIndex([1957-01-01 00:00:00, 1958-01-01 00:00:00, 1959-01-01 00:00:00,\n",
       "             1960-01-01 00:00:00, 1961-01-01 00:00:00, 1962-01-01 00:00:00,\n",
       "             1963-01-01 00:00:00, 1964-01-01 00:00:00, 1965-01-01 00:00:00,\n",
       "             1966-01-01 00:00:00, 1967-01-01 00:00:00, 1968-01-01 00:00:00,\n",
       "             1969-01-01 00:00:00, 1970-01-01 00:00:00, 1971-01-01 00:00:00,\n",
       "             1972-01-01 00:00:00, 1973-01-01 00:00:00, 1974-01-01 00:00:00,\n",
       "             1975-01-01 00:00:00, 1976-01-01 00:00:00, 1977-01-01 00:00:00,\n",
       "             1978-01-01 00:00:00, 1979-01-01 00:00:00, 1980-01-01 00:00:00,\n",
       "             1981-01-01 00:00:00, 1982-01-01 00:00:00, 1983-01-01 00:00:00,\n",
       "             1984-01-01 00:00:00, 1985-01-01 00:00:00, 1986-01-01 00:00:00,\n",
       "             1987-01-01 00:00:00, 1988-01-01 00:00:00, 1989-01-01 00:00:00,\n",
       "             1990-01-01 00:00:00, 1991-01-01 00:00:00, 1992-01-01 00:00:00,\n",
       "             1993-01-01 00:00:00, 1994-01-01 00:00:00, 1995-01-01 00:00:00,\n",
       "             1996-01-01 00:00:00, 1997-01-01 00:00:00, 1998-01-01 00:00:00,\n",
       "             1999-01-01 00:00:00, 2000-01-01 00:00:00, 2001-01-01 00:00:00,\n",
       "             2002-01-01 00:00:00, 2003-01-01 00:00:00, 2004-01-01 00:00:00,\n",
       "             2005-01-01 00:00:00, 2006-01-01 00:00:00, 2007-01-01 00:00:00,\n",
       "             2008-01-01 00:00:00, 2009-01-01 00:00:00, 2010-01-01 00:00:00,\n",
       "             2011-01-01 00:00:00, 2012-01-01 00:00:00, 2013-01-01 00:00:00,\n",
       "             2014-01-01 00:00:00, 2015-01-01 00:00:00, 2016-01-01 00:00:00,\n",
       "             2017-01-01 00:00:00, 2018-01-01 00:00:00, 2019-01-01 00:00:00,\n",
       "             2020-01-01 00:00:00],\n",
       "            dtype='object')"
      ]
     },
     "execution_count": 16,
     "metadata": {},
     "output_type": "execute_result"
    }
   ],
   "source": [
    "ds1.init.to_index().shift(3, 'YS')"
   ]
  },
  {
   "cell_type": "code",
   "execution_count": null,
   "metadata": {},
   "outputs": [],
   "source": [
    "ds1['init'] = np.arange('1954', '2018', dtype='datetime64[Y]')"
   ]
  },
  {
   "cell_type": "code",
   "execution_count": null,
   "metadata": {},
   "outputs": [],
   "source": [
    "ds1['init'] = np.arange(64)"
   ]
  },
  {
   "cell_type": "code",
   "execution_count": null,
   "metadata": {},
   "outputs": [],
   "source": [
    "time_index"
   ]
  },
  {
   "cell_type": "code",
   "execution_count": null,
   "metadata": {},
   "outputs": [],
   "source": [
    "isinstance(time_index, pd.DatetimeIndex)"
   ]
  },
  {
   "cell_type": "code",
   "execution_count": null,
   "metadata": {},
   "outputs": [],
   "source": [
    "isinstance(ds1)"
   ]
  },
  {
   "cell_type": "code",
   "execution_count": null,
   "metadata": {},
   "outputs": [],
   "source": [
    "not isinstance(ds1.init.to_index(), xr.CFTimeIndex)"
   ]
  },
  {
   "cell_type": "code",
   "execution_count": null,
   "metadata": {},
   "outputs": [],
   "source": [
    "time_index = ds1['init'].to_index()"
   ]
  },
  {
   "cell_type": "code",
   "execution_count": null,
   "metadata": {},
   "outputs": [],
   "source": [
    "isinstance(time_index, pd.Int64Index)"
   ]
  },
  {
   "cell_type": "code",
   "execution_count": null,
   "metadata": {},
   "outputs": [],
   "source": [
    "isinstance(time_index, pd.Float64Index) | isinstance(\n",
    "            time_index, pd.Int64Index)"
   ]
  },
  {
   "cell_type": "code",
   "execution_count": null,
   "metadata": {},
   "outputs": [],
   "source": [
    "time_strings = [str(t) for t in time_index]"
   ]
  },
  {
   "cell_type": "code",
   "execution_count": null,
   "metadata": {},
   "outputs": [],
   "source": [
    "split_dates = [d.split(' ')[0].split('-') for d in time_strings]"
   ]
  },
  {
   "cell_type": "code",
   "execution_count": null,
   "metadata": {},
   "outputs": [],
   "source": [
    "cftime_dates = [\n",
    "                cftime.DatetimeNoLeap(int(y), int(m), int(d))\n",
    "                for (y, m, d) in split_dates\n",
    "            ]"
   ]
  },
  {
   "cell_type": "code",
   "execution_count": null,
   "metadata": {},
   "outputs": [],
   "source": [
    "time_index = xr.CFTimeIndex(cftime_dates)"
   ]
  },
  {
   "cell_type": "code",
   "execution_count": null,
   "metadata": {},
   "outputs": [],
   "source": [
    "hindcast = HindcastEnsemble(ds1)"
   ]
  },
  {
   "cell_type": "code",
   "execution_count": null,
   "metadata": {},
   "outputs": [],
   "source": []
  },
  {
   "cell_type": "code",
   "execution_count": null,
   "metadata": {},
   "outputs": [],
   "source": [
    "hindcast.get_initialized().init"
   ]
  },
  {
   "cell_type": "code",
   "execution_count": null,
   "metadata": {},
   "outputs": [],
   "source": [
    "hind = convert_time_index(hind, 'init', 'hind[init]')\n",
    "reference = convert_time_index(reference, 'time', 'reference[time]')"
   ]
  },
  {
   "cell_type": "code",
   "execution_count": null,
   "metadata": {},
   "outputs": [],
   "source": [
    "time_index = hind['init'].to_index()"
   ]
  },
  {
   "cell_type": "code",
   "execution_count": null,
   "metadata": {},
   "outputs": [],
   "source": [
    "date = time_index[0]"
   ]
  },
  {
   "cell_type": "code",
   "execution_count": null,
   "metadata": {},
   "outputs": [],
   "source": [
    "y,m,d = date.year, date.month, date.day"
   ]
  },
  {
   "cell_type": "code",
   "execution_count": null,
   "metadata": {},
   "outputs": [],
   "source": [
    "y, m, d = time_index.year, time_index.month, time_index.day"
   ]
  },
  {
   "cell_type": "code",
   "execution_count": null,
   "metadata": {},
   "outputs": [],
   "source": [
    "[cftime.DatetimeNoLeap(int(y), int(m), int(d)) for (y, m, d) in ]"
   ]
  },
  {
   "cell_type": "code",
   "execution_count": null,
   "metadata": {},
   "outputs": [],
   "source": [
    "str(time_index[0]).split(' ')[0].split('-')"
   ]
  },
  {
   "cell_type": "code",
   "execution_count": null,
   "metadata": {},
   "outputs": [],
   "source": [
    "time_strings = [str(t) for t in time_index]\n",
    "split_dates = [d.split(' ')[0].split('-') for d in time_strings]"
   ]
  },
  {
   "cell_type": "code",
   "execution_count": null,
   "metadata": {},
   "outputs": [],
   "source": [
    "cftime_dates = [\n",
    "                cftime.DatetimeNoLeap(int(y), int(m), int(d))\n",
    "                for (y, m, d) in split_dates\n",
    "            ]\n",
    "\n"
   ]
  },
  {
   "cell_type": "code",
   "execution_count": null,
   "metadata": {},
   "outputs": [],
   "source": [
    "metric='rmse'"
   ]
  },
  {
   "cell_type": "code",
   "execution_count": null,
   "metadata": {},
   "outputs": [],
   "source": [
    "    # get metric function name, not the alias\n",
    "    metric = METRIC_ALIASES.get(metric, metric)\n",
    "    # get class metric(Metric)\n",
    "    metric = get_metric_class(metric, DETERMINISTIC_HINDCAST_METRICS)\n",
    "    if metric.probabilistic:\n",
    "        raise ValueError(\n",
    "            'probabilistic metric ', metric.name, 'cannot compute persistence forecast.'\n",
    "        )"
   ]
  },
  {
   "cell_type": "code",
   "execution_count": null,
   "metadata": {},
   "outputs": [],
   "source": [
    "offset_args_dict = get_lead_pdoffset_args(\n",
    "                getattr(hind['lead'], 'units'), 1\n",
    "            )"
   ]
  },
  {
   "cell_type": "code",
   "execution_count": null,
   "metadata": {},
   "outputs": [],
   "source": [
    "offset_args_dict"
   ]
  },
  {
   "cell_type": "code",
   "execution_count": null,
   "metadata": {},
   "outputs": [],
   "source": [
    "pd.DateOffset(**offset_args_dict)"
   ]
  },
  {
   "cell_type": "code",
   "execution_count": null,
   "metadata": {},
   "outputs": [],
   "source": [
    "hind.init.dt.strftime('%Y%m%d 00:00') + pd.DateOffset(**offset_args_dict)"
   ]
  },
  {
   "cell_type": "code",
   "execution_count": null,
   "metadata": {},
   "outputs": [],
   "source": [
    "hind.init.values + pd.DateOffset(**offset_args_dict)"
   ]
  }
 ],
 "metadata": {
  "kernelspec": {
   "display_name": "Python 3",
   "language": "python",
   "name": "python3"
  },
  "language_info": {
   "codemirror_mode": {
    "name": "ipython",
    "version": 3
   },
   "file_extension": ".py",
   "mimetype": "text/x-python",
   "name": "python",
   "nbconvert_exporter": "python",
   "pygments_lexer": "ipython3",
   "version": "3.6.7"
  },
  "toc": {
   "base_numbering": 1,
   "nav_menu": {},
   "number_sections": true,
   "sideBar": true,
   "skip_h1_title": false,
   "title_cell": "Table of Contents",
   "title_sidebar": "Contents",
   "toc_cell": false,
   "toc_position": {},
   "toc_section_display": true,
   "toc_window_display": false
  },
  "varInspector": {
   "cols": {
    "lenName": 16,
    "lenType": 16,
    "lenVar": 40
   },
   "kernels_config": {
    "python": {
     "delete_cmd_postfix": "",
     "delete_cmd_prefix": "del ",
     "library": "var_list.py",
     "varRefreshCmd": "print(var_dic_list())"
    },
    "r": {
     "delete_cmd_postfix": ") ",
     "delete_cmd_prefix": "rm(",
     "library": "var_list.r",
     "varRefreshCmd": "cat(var_dic_list()) "
    }
   },
   "types_to_exclude": [
    "module",
    "function",
    "builtin_function_or_method",
    "instance",
    "_Feature"
   ],
   "window_display": false
  }
 },
 "nbformat": 4,
 "nbformat_minor": 4
}
